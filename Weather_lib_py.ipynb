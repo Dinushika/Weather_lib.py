{
  "nbformat": 4,
  "nbformat_minor": 0,
  "metadata": {
    "colab": {
      "provenance": [],
      "authorship_tag": "ABX9TyN3HLehPmUkRIvEeFLSJLX2"
    },
    "kernelspec": {
      "name": "python3",
      "display_name": "Python 3"
    },
    "language_info": {
      "name": "python"
    }
  },
  "cells": [
    {
      "cell_type": "code",
      "execution_count": null,
      "metadata": {
        "id": "OJ1Tw5M7FIAI"
      },
      "outputs": [],
      "source": [
        "# weather_lib.py\n",
        "\n",
        "import requests\n",
        "import json\n",
        "\n",
        "def get_weather_data(latitude, longitude, start_date, end_date):\n",
        "    # Defining the API endpoint and  API key\n",
        "    api_key = 'Input API key'\n",
        "    url = f\"https://weather.visualcrossing.com/VisualCrossingWebServices/rest/services/timeline/{latitude},{longitude}/{start_date}/{end_date}?unitGroup=metric&key={api_key}&include=days\"\n",
        "\n",
        "    # Making the request to the API\n",
        "    response = requests.get(url)\n",
        "\n",
        "    # Checking if the request was successful\n",
        "    if response.status_code == 200:\n",
        "        # Parse the JSON data\n",
        "        weather_data = response.json()\n",
        "        return weather_data\n",
        "    else:\n",
        "        # If the request failed, print the error code and message\n",
        "        print(f\"Error: {response.status_code}, {response.text}\")\n",
        "        return None\n",
        "\n"
      ]
    }
  ]
}